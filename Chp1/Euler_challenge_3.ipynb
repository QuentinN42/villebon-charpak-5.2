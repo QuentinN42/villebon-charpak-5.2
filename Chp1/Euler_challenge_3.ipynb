{
 "cells": [
  {
   "cell_type": "markdown",
   "metadata": {},
   "source": [
    "# Euler Challenge #3"
   ]
  },
  {
   "cell_type": "markdown",
   "metadata": {},
   "source": [
    "*The prime factors of 13195 are 5, 7, 13 and 29.*\n",
    "\n",
    "*What is the largest prime factor of the number 600851475143 ?*"
   ]
  },
  {
   "cell_type": "markdown",
   "metadata": {},
   "source": [
    "**Définition** : la factorisation entière en nombres premiers consiste à chercher à écrire un entier naturel non nul sous forme d'un produit de nombres premiers. </br>\n",
    "Notre challenge ici consiste donc à trouver le plus grand facteur de 600851475143 qui soit nombre premier. \n",
    "\n",
    "Formalisons le problème. Il faut :\n",
    "\n",
    "1. Pouvoir déterminer si un nombre est premier : s'il est divisible par un autre nombre, alors il n'est pas premier.\n",
    "1. Trouver tous les facteurs premiers de 600851475143.\n",
    "1. Sélectionner seulement le facteur le plus grand."
   ]
  },
  {
   "cell_type": "markdown",
   "metadata": {},
   "source": [
    "## Solution longue"
   ]
  },
  {
   "cell_type": "markdown",
   "metadata": {},
   "source": [
    "Une première solution pourrait être de créer une fonction permettant de savoir si un nombre est premier ou non, puis d'utiliser cette fonction afin de trouver les facteurs premiers du nombre choisi."
   ]
  },
  {
   "cell_type": "code",
   "execution_count": null,
   "metadata": {
    "collapsed": true
   },
   "outputs": [],
   "source": [
    "def is_prime(n):\n",
    "    if n%2 == 0 and n>2:\n",
    "        return False\n",
    "    for i in range(3, n, 2):\n",
    "        if n%i == 0:\n",
    "            return False\n",
    "    return True\n",
    "\n",
    "def prime_factors(n):\n",
    "    liste = []\n",
    "    for i in range(2, int(n**0.5)+1):\n",
    "        while n%i == 0:\n",
    "            if is_prime(i) : \n",
    "                liste.append(i)\n",
    "                n = n/i\n",
    "    return liste"
   ]
  },
  {
   "cell_type": "code",
   "execution_count": null,
   "metadata": {},
   "outputs": [],
   "source": [
    "n = 600851475143\n",
    "prime_factors(n)"
   ]
  },
  {
   "cell_type": "markdown",
   "metadata": {},
   "source": [
    "**Explications** : si `n%i` est égale à 0, alors cela veut dire que `i` est un facteur premier de `n`. On incrémente `i` jusqu'à `n**0.5`+1. On utilise `n**0.5` (racine carrée) pour éviter d'avoir des calculs redondants et donc de gagner en temps de calcul. Explication par l'exemple : \n",
    "\n",
    "36 est divisible par 2, 36/2=18 et donc 36 est divisible par 18. Il est divisible par 3, 36/3=12, et donc par 12. Il est divisible par 4, 36/4=9 et donc par 9. Nous pouvons constater que plus on divise 36 par un nombre proche de sa racine et plus le résultat obtenu est proche de sa racine aussi. Si nous continuons donc, 36 est divisible par 6, 36/6=6, puis par 9, 36/9=4, diviseur que nous avions déjà obtenu en divisant 36 par un nombre inférieur à sa racine, 4."
   ]
  },
  {
   "cell_type": "markdown",
   "metadata": {},
   "source": [
    "## Solution rapide"
   ]
  },
  {
   "cell_type": "code",
   "execution_count": null,
   "metadata": {},
   "outputs": [],
   "source": [
    "def prime_factors_fast(n):\n",
    "    liste = []\n",
    "    i = 2\n",
    "    while i <= n**0.5:\n",
    "        while n%i == 0:\n",
    "            n = n/i\n",
    "            liste.append(i)\n",
    "        i = i+1\n",
    "    liste.append(n)\n",
    "    return liste"
   ]
  },
  {
   "cell_type": "code",
   "execution_count": null,
   "metadata": {},
   "outputs": [],
   "source": [
    "n = 600851475143\n",
    "prime_factors_fast(n)"
   ]
  },
  {
   "cell_type": "markdown",
   "metadata": {},
   "source": [
    "## Tests unitaires"
   ]
  },
  {
   "cell_type": "code",
   "execution_count": null,
   "metadata": {},
   "outputs": [],
   "source": [
    "assert prime_factors(13195) == [5, 7, 13, 29]\n",
    "\n",
    "assert max(prime_factors(13195)) == 29\n",
    "assert max(prime_factors(600851475143)) == 6857\n",
    "\n",
    "assert max(prime_factors_fast(13195)) == 29\n",
    "assert max(prime_factors_fast(600851475143)) == 6857"
   ]
  },
  {
   "cell_type": "markdown",
   "metadata": {},
   "source": [
    "Rappel : si aucun message n'est indiqué après avoir utilisé `assert`, alors nos fonctions retournent bien ce qui était prévu !"
   ]
  },
  {
   "cell_type": "markdown",
   "metadata": {},
   "source": [
    "## Comparaison des temps de calcul"
   ]
  },
  {
   "cell_type": "code",
   "execution_count": null,
   "metadata": {},
   "outputs": [],
   "source": [
    "import time\n",
    "\n",
    "#n = 125\n",
    "#n = 13195\n",
    "n = 600851475143 \n",
    "\n",
    "start = time.time()\n",
    "prime_factors(n)\n",
    "diff = (time.time() - start)\n",
    "print(\"prime factor slow : \", diff)\n",
    "\n",
    "start = time.time()\n",
    "prime_factors_fast(n)\n",
    "diff = (time.time() - start)\n",
    "print(\"prime factor fast : \", diff)"
   ]
  },
  {
   "cell_type": "markdown",
   "metadata": {},
   "source": [
    "On note que le temps de calcul de la fonction `prime_factor_fast` est bien moindre que celui de la fonction `prime_factor` (et encore, il aurait été très probablement possible de créer une fonction encore plus lente...). Il est donc important de savoir optimiser ses codes !"
   ]
  },
  {
   "cell_type": "markdown",
   "metadata": {
    "collapsed": true
   },
   "source": [
    "## Module pyprimes"
   ]
  },
  {
   "cell_type": "markdown",
   "metadata": {},
   "source": [
    "Pour aller plus loin : le module  `pyprimes` (https://pypi.python.org/pypi/pyprimes/).\n",
    "\n",
    "=> *The pyprimes package offers a variety of algorithms for generating prime numbers and fast primality tests, written in pure Python.*"
   ]
  }
 ],
 "metadata": {
  "kernelspec": {
   "display_name": "Python 3",
   "language": "python",
   "name": "python3"
  },
  "language_info": {
   "codemirror_mode": {
    "name": "ipython",
    "version": 3
   },
   "file_extension": ".py",
   "mimetype": "text/x-python",
   "name": "python",
   "nbconvert_exporter": "python",
   "pygments_lexer": "ipython3",
   "version": "3.6.8"
  }
 },
 "nbformat": 4,
 "nbformat_minor": 1
}
