{
 "cells": [
  {
   "cell_type": "markdown",
   "metadata": {},
   "source": [
    "# Exercices sur le langage python"
   ]
  },
  {
   "cell_type": "markdown",
   "metadata": {},
   "source": [
    "### Garder les éléments uniques d'une liste\n",
    "\n",
    "Il est facile de dédupliquer une liste en la transformant en `set`:"
   ]
  },
  {
   "cell_type": "code",
   "execution_count": 9,
   "metadata": {
    "pycharm": {
     "is_executing": false
    }
   },
   "outputs": [
    {
     "data": {
      "text/plain": "{'a', 'b'}"
     },
     "metadata": {},
     "output_type": "execute_result",
     "execution_count": 9
    }
   ],
   "source": [
    "L = ['a', 'a', 'b']\n",
    "set(L) #renvoie {'a', 'b'}"
   ]
  },
  {
   "cell_type": "markdown",
   "metadata": {},
   "source": [
    "Le but de cet exercice est d'obtenir le même résultat, mais en écrivant votre propre code, sans utiliser l'astuce précédente, et en manipulant uniquement des listes."
   ]
  },
  {
   "cell_type": "code",
   "execution_count": 10,
   "metadata": {
    "collapsed": true,
    "pycharm": {
     "is_executing": false
    }
   },
   "outputs": [],
   "source": [
    "def dedup(tab):\n",
    "    out = []\n",
    "    for e in tab:\n",
    "        if e not in out:\n",
    "            out.append(e)\n",
    "    return out"
   ]
  },
  {
   "cell_type": "code",
   "execution_count": 11,
   "metadata": {
    "pycharm": {
     "is_executing": false
    }
   },
   "outputs": [
    {
     "name": "stdout",
     "text": [
      "True\n"
     ],
     "output_type": "stream"
    }
   ],
   "source": [
    "L = ['a', 'a', 'b']\n",
    "print(dedup(L) == ['a', 'b'])"
   ]
  },
  {
   "cell_type": "markdown",
   "metadata": {},
   "source": [
    "### Nombre minimal dans une liste\n",
    "\n",
    "Soit une liste ne contenant que des valeurs numériques. Ecrire une fonction qui parcourt la liste et retourne la valeur minimale"
   ]
  },
  {
   "cell_type": "code",
   "execution_count": 12,
   "metadata": {
    "collapsed": true,
    "pycharm": {
     "is_executing": false
    }
   },
   "outputs": [],
   "source": [
    "def minimum(tab):\n",
    "    mi = tab[0]\n",
    "    for e in tab:\n",
    "        if e < mi:\n",
    "            mi = e\n",
    "    return mi"
   ]
  },
  {
   "cell_type": "code",
   "execution_count": 13,
   "metadata": {
    "pycharm": {
     "is_executing": false
    }
   },
   "outputs": [
    {
     "name": "stdout",
     "text": [
      "True\n"
     ],
     "output_type": "stream"
    }
   ],
   "source": [
    "L = range(100)\n",
    "print(minimum(L) == min(L))"
   ]
  },
  {
   "cell_type": "markdown",
   "metadata": {},
   "source": [
    "### Compter les lettres\n",
    "\n",
    "Soit la variable suivante\n",
    "```\n",
    "texte = \"abc\"\n",
    "```\n",
    "Construire un dictionnaire qui compte l'occurrence des lettres.\n",
    "```\n",
    "comptage <- {'a':1, 'b': ...}\n",
    "```\n",
    "Construire une fonction qui prend n'importe quel mot et envoie un dictionnaire d'occurences. L'utiliser sur la variable suivante\n",
    "```\n",
    "texte = \"anticonstitutionnellement\"\n",
    "```"
   ]
  },
  {
   "cell_type": "code",
   "execution_count": 14,
   "metadata": {
    "pycharm": {
     "is_executing": false
    }
   },
   "outputs": [],
   "source": [
    "texte = 'abc'\n",
    "\n",
    "comptage = {e:texte.count(e) for e in set(texte)}\n",
    "\n",
    "assert comptage == {'a':1, 'b':1, 'c':1}"
   ]
  },
  {
   "cell_type": "code",
   "execution_count": 17,
   "metadata": {
    "collapsed": true,
    "pycharm": {
     "is_executing": false
    }
   },
   "outputs": [],
   "source": [
    "def nombre_lettres(chaine):\n",
    "    return {e:chaine.count(e) for e in set(chaine)}"
   ]
  },
  {
   "cell_type": "code",
   "execution_count": 18,
   "metadata": {
    "pycharm": {
     "is_executing": false
    }
   },
   "outputs": [
    {
     "name": "stdout",
     "text": [
      "True\n"
     ],
     "output_type": "stream"
    }
   ],
   "source": [
    "texte = \"anticonstitutionnellement\"\n",
    "print(nombre_lettres(texte) == {'a': 1, 'n': 5, 't': 5, 'i': 3, 'c': 1, 'o': 2, 's': 1, 'u': 1, 'e': 3, 'l': 2, 'm': 1})"
   ]
  },
  {
   "cell_type": "markdown",
   "metadata": {},
   "source": [
    "### Inverser une liste\n",
    "\n",
    "Ecrire une fonction qui prend une liste en entrée, qui renvoie la liste inversée. "
   ]
  },
  {
   "cell_type": "code",
   "execution_count": 23,
   "metadata": {
    "collapsed": true,
    "pycharm": {
     "is_executing": false
    }
   },
   "outputs": [],
   "source": [
    "def inverse_list(to_inverse):\n",
    "    return to_inverse[::-1]"
   ]
  },
  {
   "cell_type": "code",
   "execution_count": 24,
   "metadata": {
    "pycharm": {
     "is_executing": false
    }
   },
   "outputs": [
    {
     "name": "stdout",
     "text": [
      "True\n"
     ],
     "output_type": "stream"
    }
   ],
   "source": [
    "test = ['a', 'b', 'c']\n",
    "print(inverse_list(test) == ['c', 'b', 'a'])"
   ]
  },
  {
   "cell_type": "code",
   "execution_count": null,
   "outputs": [],
   "source": [
    "\n"
   ],
   "metadata": {
    "collapsed": false,
    "pycharm": {
     "name": "#%%\n"
    }
   }
  }
 ],
 "metadata": {
  "kernelspec": {
   "display_name": "Python 3",
   "language": "python",
   "name": "python3"
  },
  "language_info": {
   "codemirror_mode": {
    "name": "ipython",
    "version": 3
   },
   "file_extension": ".py",
   "mimetype": "text/x-python",
   "name": "python",
   "nbconvert_exporter": "python",
   "pygments_lexer": "ipython3",
   "version": "3.6.8"
  },
  "pycharm": {
   "stem_cell": {
    "cell_type": "raw",
    "source": [],
    "metadata": {
     "collapsed": false
    }
   }
  }
 },
 "nbformat": 4,
 "nbformat_minor": 2
}