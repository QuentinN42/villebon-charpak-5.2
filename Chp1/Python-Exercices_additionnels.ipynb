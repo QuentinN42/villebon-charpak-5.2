{
 "cells": [
  {
   "cell_type": "markdown",
   "metadata": {},
   "source": [
    "# Exercices sur le langage python"
   ]
  },
  {
   "cell_type": "markdown",
   "metadata": {},
   "source": [
    "### Garder les éléments uniques d'une liste\n",
    "\n",
    "Il est facile de dédupliquer une liste en la transformant en `set`:"
   ]
  },
  {
   "cell_type": "code",
   "execution_count": null,
   "metadata": {},
   "outputs": [],
   "source": [
    "L = ['a', 'a', 'b']\n",
    "set(L) #renvoie {'a', 'b'}"
   ]
  },
  {
   "cell_type": "markdown",
   "metadata": {},
   "source": [
    "Le but de cet exercice est d'obtenir le même résultat, mais en écrivant votre propre code, sans utiliser l'astuce précédente, et en manipulant uniquement des listes."
   ]
  },
  {
   "cell_type": "code",
   "execution_count": null,
   "metadata": {
    "collapsed": true
   },
   "outputs": [],
   "source": [
    "def dedup(L):\n",
    "    pass"
   ]
  },
  {
   "cell_type": "code",
   "execution_count": null,
   "metadata": {},
   "outputs": [],
   "source": [
    "L = ['a', 'a', 'b']\n",
    "assert dedup(L) == ['a', 'b']"
   ]
  },
  {
   "cell_type": "markdown",
   "metadata": {},
   "source": [
    "### Nombre minimal dans une liste\n",
    "\n",
    "Soit une liste ne contenant que des valeurs numériques. Ecrire une fonction qui parcourt la liste et retourne la valeur minimale"
   ]
  },
  {
   "cell_type": "code",
   "execution_count": null,
   "metadata": {
    "collapsed": true
   },
   "outputs": [],
   "source": [
    "def minimum(L):\n",
    "    pass"
   ]
  },
  {
   "cell_type": "code",
   "execution_count": null,
   "metadata": {},
   "outputs": [],
   "source": [
    "L = range(100)\n",
    "assert minimum(L) == min(L)"
   ]
  },
  {
   "cell_type": "markdown",
   "metadata": {},
   "source": [
    "### Compter les lettres\n",
    "\n",
    "Soit la variable suivante\n",
    "```\n",
    "texte = \"abc\"\n",
    "```\n",
    "Construire un dictionnaire qui compte l'occurrence des lettres.\n",
    "```\n",
    "comptage <- {'a':1, 'b': ...}\n",
    "```\n",
    "Construire une fonction qui prend n'importe quel mot et envoie un dictionnaire d'occurences. L'utiliser sur la variable suivante\n",
    "```\n",
    "texte = \"anticonstitutionnellement\"\n",
    "```"
   ]
  },
  {
   "cell_type": "code",
   "execution_count": null,
   "metadata": {},
   "outputs": [],
   "source": [
    "texte = 'abc'\n",
    "\n",
    "comptage = {}\n",
    "# votre code ici\n",
    "\n",
    "assert comptage == {'a':1, 'b':1, 'c':1}"
   ]
  },
  {
   "cell_type": "code",
   "execution_count": null,
   "metadata": {
    "collapsed": true
   },
   "outputs": [],
   "source": [
    "def nombre_lettres(texte):\n",
    "    pass"
   ]
  },
  {
   "cell_type": "code",
   "execution_count": null,
   "metadata": {},
   "outputs": [],
   "source": [
    "texte = \"anticonstitutionnellement\"\n",
    "assert nombre_lettres(texte) == {'a': 1, 'n': 5, 't': 5, 'i': 3, 'c': 1, 'o': 2, 's': 1, 'u': 1, 'e': 3, 'l': 2, 'm': 1}"
   ]
  },
  {
   "cell_type": "markdown",
   "metadata": {},
   "source": [
    "### Inverser une liste\n",
    "\n",
    "Ecrire une fonction qui prend une liste en entrée, qui renvoie la liste inversée. "
   ]
  },
  {
   "cell_type": "code",
   "execution_count": null,
   "metadata": {
    "collapsed": true
   },
   "outputs": [],
   "source": [
    "def inverse_list(to_inverse):\n",
    "    pass"
   ]
  },
  {
   "cell_type": "code",
   "execution_count": null,
   "metadata": {},
   "outputs": [],
   "source": [
    "to_inverse = ['a', 'b', 'c']\n",
    "assert inverse_list(to_inverse) == ['c', 'b', 'a']"
   ]
  }
 ],
 "metadata": {
  "kernelspec": {
   "display_name": "Python 3",
   "language": "python",
   "name": "python3"
  },
  "language_info": {
   "codemirror_mode": {
    "name": "ipython",
    "version": 3
   },
   "file_extension": ".py",
   "mimetype": "text/x-python",
   "name": "python",
   "nbconvert_exporter": "python",
   "pygments_lexer": "ipython3",
   "version": "3.6.8"
  }
 },
 "nbformat": 4,
 "nbformat_minor": 2
}
