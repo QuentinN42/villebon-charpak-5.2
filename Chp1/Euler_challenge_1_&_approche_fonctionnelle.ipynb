{
 "cells": [
  {
   "cell_type": "markdown",
   "metadata": {},
   "source": [
    "# Euler Challenge #1"
   ]
  },
  {
   "cell_type": "markdown",
   "metadata": {},
   "source": [
    "*If we list all the natural numbers below 10 that are multiples of 3 or 5, we get 3, 5, 6 and 9. The sum of these multiples is 23. *\n",
    "\n",
    "*Find the sum of all the multiples of 3 or 5 below 1000.*"
   ]
  },
  {
   "cell_type": "markdown",
   "metadata": {},
   "source": [
    "Formalisons le problème :\n",
    "\n",
    "1. Nous souhaitons isoler certains nombres strictement inférieurs à 1000 : on va utiliser une boucle\n",
    "1. Ces nombres sont des multiples de 3 ou 5, ce qui impliquent que la division par 3 ou 5 a pour reste 0 : on va utiliser l'opérateur modulo `%` mais on a également `divmod`\n",
    "1. On somme les nombres ainsi isolés"
   ]
  },
  {
   "cell_type": "markdown",
   "metadata": {},
   "source": [
    "## Solution express"
   ]
  },
  {
   "cell_type": "markdown",
   "metadata": {},
   "source": [
    "Il est possible d'aborder le problème de différentes façons, certaines agnostiques, et certaines plus pythonesques\n",
    "\n",
    "Commençons par une approche standard, et impérative"
   ]
  },
  {
   "cell_type": "code",
   "execution_count": null,
   "metadata": {
    "scrolled": true
   },
   "outputs": [],
   "source": [
    "result = 0\n",
    "for i in range(10):\n",
    "    if i%3 == 0 or i%5 == 0:\n",
    "        result += i\n",
    "\n",
    "print(result)"
   ]
  },
  {
   "cell_type": "markdown",
   "metadata": {},
   "source": [
    "Une version un peu plus idiomatique"
   ]
  },
  {
   "cell_type": "code",
   "execution_count": null,
   "metadata": {},
   "outputs": [],
   "source": [
    "result = 0\n",
    "for i in range(10):\n",
    "    if not i%3 or not i%5 :\n",
    "        result += i\n",
    "\n",
    "print(result)"
   ]
  },
  {
   "cell_type": "markdown",
   "metadata": {},
   "source": [
    "Python peut interpréter des valeurs non-booléennes comme étant des booléens. Généralement, tout ce qui ne vaut pas 0 est `True`."
   ]
  },
  {
   "cell_type": "code",
   "execution_count": null,
   "metadata": {},
   "outputs": [],
   "source": [
    "bool(0)"
   ]
  },
  {
   "cell_type": "code",
   "execution_count": null,
   "metadata": {},
   "outputs": [],
   "source": [
    "bool(1)"
   ]
  },
  {
   "cell_type": "code",
   "execution_count": null,
   "metadata": {},
   "outputs": [],
   "source": [
    "bool(132)"
   ]
  },
  {
   "cell_type": "code",
   "execution_count": null,
   "metadata": {},
   "outputs": [],
   "source": [
    "bool(213.1)"
   ]
  },
  {
   "cell_type": "code",
   "execution_count": null,
   "metadata": {},
   "outputs": [],
   "source": [
    "bool([1])"
   ]
  },
  {
   "cell_type": "code",
   "execution_count": null,
   "metadata": {},
   "outputs": [],
   "source": [
    "bool([])"
   ]
  },
  {
   "cell_type": "markdown",
   "metadata": {},
   "source": [
    "## Fonctions"
   ]
  },
  {
   "cell_type": "markdown",
   "metadata": {},
   "source": [
    "Nous pouvons en faire une fonction qui prend un nombre N en paramètre pour faire le calcul pour tous les $x>N$"
   ]
  },
  {
   "cell_type": "code",
   "execution_count": null,
   "metadata": {
    "collapsed": true
   },
   "outputs": [],
   "source": [
    "def euler_one(n):\n",
    "    result = 0\n",
    "    for i in range(n):\n",
    "        if not i%3 or not i%5 :\n",
    "            result += i\n",
    "\n",
    "    return result"
   ]
  },
  {
   "cell_type": "code",
   "execution_count": null,
   "metadata": {},
   "outputs": [],
   "source": [
    "euler_one(1000)"
   ]
  },
  {
   "cell_type": "markdown",
   "metadata": {},
   "source": [
    "## Tests unitaires"
   ]
  },
  {
   "cell_type": "markdown",
   "metadata": {},
   "source": [
    "L'avantage de la fonction est qu'on peut réutiliser notre code pour différentes valeurs de N. Par exemple dans l'énoncé, on nous dit que le même calcul pour $x<10$ vaut 23.\n",
    "\n",
    "Il est utile, et même fortement recommandé lorsqu'on travaille sur des codes de plus en plus longs et complexes, de définir des tests unitaires et de les lancer régulièrement pour vérifier qu'un changement quelque part n'a pas tout cassé ailleurs.\n",
    "\n",
    "Dans notre exemple, un test unitaire simple consiste à vérifier que notre fonction retourne bien 23 pour $N = 10$\n",
    "\n",
    "Python offre également de nombreuses facilités de ce côté comme le montre le code ci-dessous."
   ]
  },
  {
   "cell_type": "code",
   "execution_count": null,
   "metadata": {},
   "outputs": [],
   "source": [
    "assert euler_one(10) == 23"
   ]
  },
  {
   "cell_type": "markdown",
   "metadata": {},
   "source": [
    "## Approche fonctionnelle"
   ]
  },
  {
   "cell_type": "markdown",
   "metadata": {},
   "source": [
    "Python nous permet de faire plus court en utilisant une approche **fonctionnelle**, qui est particulièrement efficace dans les algorithmes de traitement de données (moins de lignes de code !).\n",
    "\n",
    "La programmation fonctionnelle, comme son nom l'indique, accorde une place importante aux fonctions, qui peuvent être assignées à des variables, ou définit à la volée dans des fonctions anonymes `lambda`.\n",
    "\n",
    "Une approche fonctionnelle standard va utiliser les opérateurs `map`, `filter` et `reduce`. Il s'agit de fonctions prenant en argument une liste ainsi qu'une fonction qui lui sera appliquée. Les 2 premiers retournent une liste, tandis que le dernier retourne un scalaire.\n",
    "\n",
    "`range(1000)` est une liste"
   ]
  },
  {
   "cell_type": "code",
   "execution_count": null,
   "metadata": {},
   "outputs": [],
   "source": [
    "list(map(lambda x:x**2, range(10)))"
   ]
  },
  {
   "cell_type": "code",
   "execution_count": null,
   "metadata": {},
   "outputs": [],
   "source": [
    "list(filter(lambda x: x%3==0 or x%5 == 0, range(20)))"
   ]
  },
  {
   "cell_type": "code",
   "execution_count": null,
   "metadata": {},
   "outputs": [],
   "source": [
    "from functools import reduce\n",
    "\n",
    "reduce(lambda x,y : x+y, filter(lambda x: x%3==0 or x%5 == 0, range(1000)))"
   ]
  },
  {
   "cell_type": "markdown",
   "metadata": {},
   "source": [
    "Mais dans notre cas, ce n'est pas nécessaire, car python dispose d'une fonction `sum`"
   ]
  },
  {
   "cell_type": "code",
   "execution_count": null,
   "metadata": {},
   "outputs": [],
   "source": [
    "sum(filter(lambda x: x%3==0 or x%5 == 0, range(1000)))"
   ]
  },
  {
   "cell_type": "markdown",
   "metadata": {},
   "source": [
    "Sauf que Python permet de faire encore plus simple, en utilisant les **listes en compréhensions**"
   ]
  },
  {
   "cell_type": "code",
   "execution_count": null,
   "metadata": {},
   "outputs": [],
   "source": [
    "[x for x in range(10)]"
   ]
  },
  {
   "cell_type": "code",
   "execution_count": null,
   "metadata": {},
   "outputs": [],
   "source": [
    "[x for x in range(20) if not x%3 or not x%5]"
   ]
  },
  {
   "cell_type": "markdown",
   "metadata": {},
   "source": [
    "Par conséquent la solution la plus Python est la suivante"
   ]
  },
  {
   "cell_type": "code",
   "execution_count": null,
   "metadata": {},
   "outputs": [],
   "source": [
    "sum([x for x in range(1000) if not x%3 or not x%5])"
   ]
  }
 ],
 "metadata": {
  "kernelspec": {
   "display_name": "Python 3",
   "language": "python",
   "name": "python3"
  },
  "language_info": {
   "codemirror_mode": {
    "name": "ipython",
    "version": 3
   },
   "file_extension": ".py",
   "mimetype": "text/x-python",
   "name": "python",
   "nbconvert_exporter": "python",
   "pygments_lexer": "ipython3",
   "version": "3.6.8"
  }
 },
 "nbformat": 4,
 "nbformat_minor": 1
}
