{
 "cells": [
  {
   "cell_type": "markdown",
   "metadata": {},
   "source": [
    "Il existe différentes façons de répondre aux questions ci-dessous. N'hésitez pas à tester et expérimenter."
   ]
  },
  {
   "cell_type": "markdown",
   "metadata": {},
   "source": [
    "# Moyenne"
   ]
  },
  {
   "cell_type": "code",
   "execution_count": 14,
   "metadata": {
    "collapsed": true,
    "pycharm": {
     "is_executing": false
    }
   },
   "outputs": [],
   "source": [
    "def moyenne(tab : iter):\n",
    "    return sum(tab)/len(tab)"
   ]
  },
  {
   "cell_type": "code",
   "execution_count": 15,
   "metadata": {
    "pycharm": {
     "is_executing": false
    }
   },
   "outputs": [],
   "source": [
    "v = [0,10,20]\n",
    "assert moyenne(v) == 10\n",
    "assert moyenne((0,10,20)) == 10"
   ]
  },
  {
   "cell_type": "markdown",
   "metadata": {},
   "source": [
    "# Médiane"
   ]
  },
  {
   "cell_type": "code",
   "execution_count": 57,
   "metadata": {
    "collapsed": true,
    "pycharm": {
     "is_executing": false
    }
   },
   "outputs": [],
   "source": [
    "def mediane(tab):\n",
    "    ind = len(tab)/2-1/2\n",
    "    if int(ind) == ind:\n",
    "        return tab[int(ind)]\n",
    "    else:\n",
    "        return moyenne((tab[int(ind-1/2)], tab[int(ind+1/2)]))\n",
    "\n",
    "def mediane2(tab):\n",
    "    tab = sorted(tab+tab)\n",
    "    return moyenne((tab[len(tab)//2], tab[len(tab)//2-1]))"
   ]
  },
  {
   "cell_type": "code",
   "execution_count": 58,
   "metadata": {
    "scrolled": true,
    "pycharm": {
     "is_executing": false
    }
   },
   "outputs": [
    {
     "name": "stdout",
     "text": [
      "2.0 =? 2\n2.5 =? 2.5\n"
     ],
     "output_type": "stream"
    }
   ],
   "source": [
    "from random import shuffle\n",
    "\n",
    "v = [1, 2, 3]\n",
    "v_odd = v\n",
    "shuffle(v)\n",
    "\n",
    "print(mediane2(v),\"=?\",2)\n",
    "print(mediane2(v[1:]),\"=?\",2.5)\n",
    "\n",
    "assert mediane2(v) == 2\n",
    "assert mediane2(v[1:]) == 2.5"
   ]
  },
  {
   "cell_type": "code",
   "execution_count": 17,
   "outputs": [],
   "source": [],
   "metadata": {
    "collapsed": false,
    "pycharm": {
     "name": "#%%\n",
     "is_executing": false
    }
   }
  },
  {
   "cell_type": "markdown",
   "metadata": {},
   "source": [
    "# Calcul vectoriel"
   ]
  },
  {
   "cell_type": "markdown",
   "metadata": {},
   "source": [
    "Nous allons écrire un programme simple qui calcul le produit scalaire de deux vecteurs.\n",
    "\n",
    "Les vecteurs seront implémentés à l'aide de listes\n",
    "`v=[x1,x2,x3,...]`"
   ]
  },
  {
   "cell_type": "code",
   "execution_count": 62,
   "metadata": {
    "collapsed": true,
    "pycharm": {
     "is_executing": false
    }
   },
   "outputs": [],
   "source": [
    "def produit_scalaire(v1,v2):\n",
    "    return sum(i*j for i,j in zip(v1,v2))"
   ]
  },
  {
   "cell_type": "code",
   "execution_count": 63,
   "metadata": {
    "pycharm": {
     "is_executing": false
    }
   },
   "outputs": [],
   "source": [
    "v1 = [0,1]\n",
    "v2 = [1,0]\n",
    "\n",
    "assert produit_scalaire(v1,v1) == 1 \n",
    "assert produit_scalaire(v1,v2) == 0 "
   ]
  },
  {
   "cell_type": "code",
   "execution_count": null,
   "outputs": [],
   "source": [],
   "metadata": {
    "collapsed": false,
    "pycharm": {
     "name": "#%%\n"
    }
   }
  }
 ],
 "metadata": {
  "kernelspec": {
   "display_name": "Python 3",
   "language": "python",
   "name": "python3"
  },
  "language_info": {
   "codemirror_mode": {
    "name": "ipython",
    "version": 3
   },
   "file_extension": ".py",
   "mimetype": "text/x-python",
   "name": "python",
   "nbconvert_exporter": "python",
   "pygments_lexer": "ipython3",
   "version": "3.6.8"
  },
  "pycharm": {
   "stem_cell": {
    "cell_type": "raw",
    "source": [],
    "metadata": {
     "collapsed": false
    }
   }
  }
 },
 "nbformat": 4,
 "nbformat_minor": 1
}