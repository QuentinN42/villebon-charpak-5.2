{
 "cells": [
  {
   "cell_type": "markdown",
   "metadata": {
    "collapsed": true
   },
   "source": [
    "# Librairies scientifiques\n",
    "\n",
    "A l'issue de cette séance, vous serez plus à l'aise avec deux des  librairies que nous utiliserons régulièrement : numpy et matplotlib.\n",
    "\n",
    "Nous allons commencer par voir comment la structure numpy.array facilite certaines opérations courantes, en reprenant les exercices vu précédemment."
   ]
  },
  {
   "cell_type": "code",
   "execution_count": 16,
   "metadata": {
    "pycharm": {
     "is_executing": false
    }
   },
   "outputs": [],
   "source": [
    "# La cellule suivante reviendra régulièrement dans les différents notebooks\n",
    "import numpy as np\n",
    "import matplotlib.pyplot as plt\n",
    "%matplotlib inline "
   ]
  },
  {
   "cell_type": "markdown",
   "metadata": {},
   "source": [
    "`%matplotlib inline ` : cette ligne permet de générer les graphes au sein du notebook au lieu d'ouvrir une nouvelle fenêtre"
   ]
  },
  {
   "cell_type": "code",
   "execution_count": 17,
   "metadata": {
    "pycharm": {
     "is_executing": false
    }
   },
   "outputs": [
    {
     "name": "stdout",
     "text": [
      "[ 0  1  2  3  4  5  6  7  8  9 10 11 12 13 14 15 16 17 18 19]\n"
     ],
     "output_type": "stream"
    }
   ],
   "source": [
    "v = np.arange(20)\n",
    "print(v)"
   ]
  },
  {
   "cell_type": "code",
   "execution_count": 18,
   "metadata": {
    "pycharm": {
     "is_executing": false
    }
   },
   "outputs": [
    {
     "data": {
      "text/plain": "(20,)"
     },
     "metadata": {},
     "output_type": "execute_result",
     "execution_count": 18
    }
   ],
   "source": [
    "v.shape"
   ]
  },
  {
   "cell_type": "code",
   "execution_count": 19,
   "metadata": {
    "pycharm": {
     "is_executing": false
    }
   },
   "outputs": [
    {
     "name": "stdout",
     "text": [
      "[[ 0  1]\n [ 2  3]\n [ 4  5]\n [ 6  7]\n [ 8  9]\n [10 11]\n [12 13]\n [14 15]\n [16 17]\n [18 19]]\n"
     ],
     "output_type": "stream"
    }
   ],
   "source": [
    "print(v.reshape(10,2))"
   ]
  },
  {
   "cell_type": "code",
   "execution_count": 20,
   "metadata": {
    "pycharm": {
     "is_executing": false
    }
   },
   "outputs": [
    {
     "name": "stdout",
     "text": [
      "[[ 0  1  2  3  4  5  6  7  8  9]\n [10 11 12 13 14 15 16 17 18 19]]\n"
     ],
     "output_type": "stream"
    }
   ],
   "source": [
    "print(v.reshape(2,10))"
   ]
  },
  {
   "cell_type": "code",
   "execution_count": 21,
   "metadata": {
    "pycharm": {
     "is_executing": false
    }
   },
   "outputs": [
    {
     "name": "stdout",
     "text": [
      "[[ 0 10]\n [ 1 11]\n [ 2 12]\n [ 3 13]\n [ 4 14]\n [ 5 15]\n [ 6 16]\n [ 7 17]\n [ 8 18]\n [ 9 19]]\n"
     ],
     "output_type": "stream"
    }
   ],
   "source": [
    "print(v.reshape(2,10).T)"
   ]
  },
  {
   "cell_type": "code",
   "execution_count": 22,
   "metadata": {
    "pycharm": {
     "is_executing": false
    }
   },
   "outputs": [
    {
     "name": "stdout",
     "text": [
      "9.5\n"
     ],
     "output_type": "stream"
    }
   ],
   "source": [
    "# afficher la moyenne de v\n",
    "print(v.mean())"
   ]
  },
  {
   "cell_type": "code",
   "execution_count": 23,
   "metadata": {
    "pycharm": {
     "is_executing": false
    }
   },
   "outputs": [
    {
     "name": "stdout",
     "text": [
      "9.5\n"
     ],
     "output_type": "stream"
    }
   ],
   "source": [
    "# afficher la mediane de v\n",
    "print(np.median(v))"
   ]
  },
  {
   "cell_type": "code",
   "execution_count": 24,
   "metadata": {
    "pycharm": {
     "is_executing": false
    }
   },
   "outputs": [
    {
     "name": "stdout",
     "text": [
      "2280\n"
     ],
     "output_type": "stream"
    }
   ],
   "source": [
    "# calculer le produit scalaire de v et de u, et l'angle entre les 2 vecteurs\n",
    "u = v - 1\n",
    "print(u@v)"
   ]
  },
  {
   "cell_type": "markdown",
   "metadata": {},
   "source": [
    "`np.median` s'utilise comme une méthode de classe, ie elle est à partir du module numpy et non à partir de l'instance `v`.\n",
    "\n",
    "`np.mean` peut également être utilisé comme méthode de classe, mais dans ce cas il faut préciser l'argument\n",
    "\n",
    "Notez la différence entre\n",
    "```\n",
    "v.mean()\n",
    "np.mean(v)\n",
    "```\n",
    "\n",
    "Dans le premier cas, `mean` est appelé depuis l'instance `v`, à laquelle sont déjà associée des données. La fonction sait donc quelles valeurs elle prend en paramètre"
   ]
  },
  {
   "cell_type": "markdown",
   "metadata": {},
   "source": [
    "Numpy permet d'opérer directement sur l'array pour des opérations algébriques, au lieu de boucler sur tous les éléments.\n",
    "\n",
    "Il fournit également des fonctions \"vectorialisée\", qui prennnent un array en entrée et retourne un array en sortie avec la fonction appliquée à chaque entrée"
   ]
  },
  {
   "cell_type": "code",
   "execution_count": 25,
   "metadata": {
    "pycharm": {
     "is_executing": false
    }
   },
   "outputs": [
    {
     "name": "stdout",
     "text": [
      "[0.0, 1.0, 1.4142135623730951, 1.7320508075688772, 2.0, 2.23606797749979, 2.449489742783178, 2.6457513110645907, 2.8284271247461903, 3.0]\n"
     ],
     "output_type": "stream"
    }
   ],
   "source": [
    "from math import sqrt\n",
    "print([sqrt(x) for x in range(10)])"
   ]
  },
  {
   "cell_type": "code",
   "execution_count": 26,
   "metadata": {
    "pycharm": {
     "is_executing": false
    }
   },
   "outputs": [
    {
     "name": "stdout",
     "text": [
      "5.0\n"
     ],
     "output_type": "stream"
    }
   ],
   "source": [
    "# utiliser la fonction sqrt de numpy\n",
    "print(sqrt(4*4+3*3))"
   ]
  },
  {
   "cell_type": "markdown",
   "metadata": {},
   "source": [
    "## Modèle linéaire\n",
    "\n",
    "Nous allons illustrer quelques principes fondamentaux à l'aide de nos nouvelles connaissances en Python. La régression linéaire est l'exemple royal pour cet exercice, et nous permettra de nous familiariser avec de nombreux sujets, sans être noyés par la complexité du modèle, qui reste l'un des plus simple.\n",
    "\n",
    "$$y \\sim f_{\\theta}(x)$$\n",
    "\n",
    "avec comme fonction f une forme linéaire\n",
    "\n",
    "$$f_{\\theta}(x) = \\theta_0 + \\theta_1 x +\\epsilon $$\n",
    "\n",
    "\n",
    "On introduit $\\epsilon$ un terme d'erreur qui prend en compte la nature probabiliste des données, et leur déviation du modèle idéal.\n",
    "\n",
    "\n",
    "### Hypothèses du modèle linéaire\n",
    "\n",
    "* les erreurs suivent une loi normale de moyenne nulle\n",
    "* la variance est la même pour tous (homoscédasticité) : la variance est la même pour l'ensemble des termes d'erreures gaussiens\n",
    "$Var(\\epsilon_i)=\\sigma$\n",
    "* les termes d'erreurs pour les différents $x_i$ sont indépendants les uns des autres\n",
    "\n"
   ]
  },
  {
   "cell_type": "markdown",
   "metadata": {},
   "source": [
    "Afin de nous familiariser avec ce modèle, nous allons générer des points qui obéissent aux équations définies ci-dessus, et les représenter graphiquement"
   ]
  },
  {
   "cell_type": "markdown",
   "metadata": {},
   "source": [
    "Commençons par définir un vecteur X qui est notre variable indépendante, **variant aléatoirement entre 0 et 10**, nous pouvons procéder de différentes façons\n",
    "1. Avec une boucle\n",
    "1. Avec une list comprehension\n",
    "1. En utilisant le module numpy"
   ]
  },
  {
   "cell_type": "code",
   "execution_count": 27,
   "metadata": {
    "pycharm": {
     "is_executing": false
    }
   },
   "outputs": [],
   "source": [
    "import random\n",
    "import numpy as np\n",
    "%matplotlib inline"
   ]
  },
  {
   "cell_type": "markdown",
   "source": [
    "avec une boucle"
   ],
   "metadata": {
    "collapsed": false
   }
  },
  {
   "cell_type": "code",
   "execution_count": 28,
   "outputs": [
    {
     "name": "stdout",
     "text": [
      "3\n"
     ],
     "output_type": "stream"
    }
   ],
   "source": [
    "X = lambda : random.randint(0,10)\n",
    "print(X())"
   ],
   "metadata": {
    "collapsed": false,
    "pycharm": {
     "name": "#%%\n",
     "is_executing": false
    }
   }
  },
  {
   "cell_type": "markdown",
   "source": [
    "avec une compréhension de liste"
   ],
   "metadata": {
    "collapsed": false
   }
  },
  {
   "cell_type": "code",
   "execution_count": 29,
   "metadata": {
    "pycharm": {
     "is_executing": false
    }
   },
   "outputs": [
    {
     "name": "stdout",
     "text": [
      "[10, 10, 6, 5, 7, 10, 1, 2, 9, 0]\n"
     ],
     "output_type": "stream"
    }
   ],
   "source": [
    "print([X() for i in range(10)])"
   ]
  },
  {
   "cell_type": "markdown",
   "source": [
    "avec numpy"
   ],
   "metadata": {
    "collapsed": false
   }
  },
  {
   "cell_type": "code",
   "execution_count": 38,
   "outputs": [
    {
     "name": "stdout",
     "text": [
      "[3 2 4 2 0 1 9 2 1 0]\n"
     ],
     "output_type": "stream"
    }
   ],
   "source": [
    "vals = np.random.randint(0,10,10)\n",
    "print(vals)"
   ],
   "metadata": {
    "collapsed": false,
    "pycharm": {
     "name": "#%%\n",
     "is_executing": false
    }
   }
  },
  {
   "cell_type": "markdown",
   "metadata": {},
   "source": [
    "Représenter l'histogramme des valeurs prises par la variable aléatoire X"
   ]
  },
  {
   "cell_type": "code",
   "execution_count": 40,
   "metadata": {
    "pycharm": {
     "is_executing": false
    }
   },
   "outputs": [
    {
     "data": {
      "text/plain": "[<matplotlib.lines.Line2D at 0x7fab15e391d0>]"
     },
     "metadata": {},
     "output_type": "execute_result",
     "execution_count": 40
    },
    {
     "data": {
      "text/plain": "<Figure size 432x288 with 1 Axes>",
      "image/png": "[encoded data removed]"
     },
     "metadata": {
      "needs_background": "light"
     },
     "output_type": "display_data"
    }
   ],
   "source": [
    "fig, ax = plt.subplots()\n",
    "ax.plot(vals, '+k')"
   ]
  },
  {
   "cell_type": "markdown",
   "metadata": {},
   "source": [
    "Représenter la droite y = 5x + 1"
   ]
  },
  {
   "cell_type": "code",
   "execution_count": 43,
   "metadata": {
    "pycharm": {
     "is_executing": false
    }
   },
   "outputs": [
    {
     "data": {
      "text/plain": "[<matplotlib.lines.Line2D at 0x7fab15f43be0>]"
     },
     "metadata": {},
     "output_type": "execute_result",
     "execution_count": 43
    },
    {
     "data": {
      "text/plain": "<Figure size 432x288 with 1 Axes>",
      "image/png": "[encoded data removed]"
     },
     "metadata": {
      "needs_background": "light"
     },
     "output_type": "display_data"
    }
   ],
   "source": [
    "del fig, ax\n",
    "\n",
    "x = np.arange(10)\n",
    "f = lambda x: 5*x+1\n",
    "fig, ax = plt.subplots()\n",
    "ax.plot(x, f(x), '+k')\n"
   ]
  },
  {
   "cell_type": "markdown",
   "metadata": {},
   "source": [
    "### Bruit gaussien\n",
    "\n",
    "Dans le monde réel les données sont toujours entachées de bruits. Nous considérons ici que le bruit est gaussien.\n",
    "\n",
    "Pour rappel, la densité de probabilité gaussienne/normale :  \n",
    "$$p(x) = \\frac{1}{\\sqrt{2 \\pi \\sigma^2}}e^{-\\frac{(x-\\mu)^2}{2 \\sigma^2}}$$\n",
    "\n",
    "Nous pouvons échantiller depuis une loi normale avec la fonction `normalvariate` du module `random` standard, ou utiliser encore une fois `numpy`"
   ]
  },
  {
   "cell_type": "code",
   "execution_count": 44,
   "metadata": {
    "pycharm": {
     "is_executing": false
    }
   },
   "outputs": [
    {
     "name": "stderr",
     "text": [
      "/usr/local/lib/python3.7/dist-packages/ipykernel_launcher.py:3: MatplotlibDeprecationWarning: \nThe 'normed' kwarg was deprecated in Matplotlib 2.1 and will be removed in 3.1. Use 'density' instead.\n  This is separate from the ipykernel package so we can avoid doing imports until\n"
     ],
     "output_type": "stream"
    },
    {
     "data": {
      "text/plain": "<Figure size 432x288 with 1 Axes>",
      "image/png": "[encoded data removed]"
     },
     "metadata": {
      "needs_background": "light"
     },
     "output_type": "display_data"
    }
   ],
   "source": [
    "from random import normalvariate\n",
    "y_normal = [normalvariate(0,1) for i in range(10000)] #ceci est une boucle\n",
    "plt.hist(y_normal, bins=50, normed=True)\n",
    "plt.show()"
   ]
  },
  {
   "cell_type": "markdown",
   "metadata": {},
   "source": [
    "`normalvariate` génère une valeur à chaque fois (théoriquement entre $-\\infty$ et $+\\infty$). La probabilité que cette valeur soit dans un certain intervalle est donnée par $Pr(x_1<x<x_2) = \\int_{x_1}^{x_2} p(x).dx $\n",
    "\n",
    "<img src=\"img/Standard_deviation_diagram.svg.png\">"
   ]
  },
  {
   "cell_type": "markdown",
   "metadata": {},
   "source": [
    "Refaisons le même exercice avec numpy et sans boucle"
   ]
  },
  {
   "cell_type": "code",
   "execution_count": 45,
   "metadata": {
    "pycharm": {
     "is_executing": false
    }
   },
   "outputs": [
    {
     "name": "stderr",
     "text": [
      "/usr/local/lib/python3.7/dist-packages/ipykernel_launcher.py:2: MatplotlibDeprecationWarning: \nThe 'normed' kwarg was deprecated in Matplotlib 2.1 and will be removed in 3.1. Use 'density' instead.\n  \n"
     ],
     "output_type": "stream"
    },
    {
     "data": {
      "text/plain": "<Figure size 432x288 with 1 Axes>",
      "image/png": "[encoded data removed]"
     },
     "metadata": {
      "needs_background": "light"
     },
     "output_type": "display_data"
    }
   ],
   "source": [
    "y_normal = np.random.normal(0,1,10000)\n",
    "plt.hist(y_normal, bins=50, normed=True)\n",
    "plt.show()"
   ]
  },
  {
   "cell_type": "markdown",
   "metadata": {},
   "source": [
    "Ajoutons maintenant la composante linéaire et la composante gaussienne au sein d'une fonction"
   ]
  },
  {
   "cell_type": "code",
   "execution_count": 46,
   "metadata": {
    "pycharm": {
     "is_executing": false
    }
   },
   "outputs": [],
   "source": [
    "def linear(x, params=(0,1)):\n",
    "    \"\"\"Generate a linear function f(x)=a*x+b+N(0,1)\n",
    "    \n",
    "    Args:\n",
    "        x (numpy.array()) : vector used to generate the output\n",
    "        params (tuple of size 2) : b=params[0] and a=params[1]\n",
    "    \n",
    "    Returns:\n",
    "        numpy.array()\n",
    "    \"\"\"\n",
    "    a,b = params\n",
    "    return (b + a*x) + np.random.normal(0,1, len(x))"
   ]
  },
  {
   "cell_type": "code",
   "execution_count": 47,
   "metadata": {
    "pycharm": {
     "is_executing": false
    }
   },
   "outputs": [
    {
     "data": {
      "text/plain": "<Figure size 432x288 with 1 Axes>",
      "image/png": "[encoded data removed]"
     },
     "metadata": {
      "needs_background": "light"
     },
     "output_type": "display_data"
    }
   ],
   "source": [
    "plt.scatter(x, linear(x))\n",
    "plt.show()"
   ]
  },
  {
   "cell_type": "code",
   "execution_count": 48,
   "metadata": {
    "pycharm": {
     "is_executing": false
    }
   },
   "outputs": [
    {
     "data": {
      "text/plain": "<Figure size 432x288 with 1 Axes>",
      "image/png": "[encoded data removed]"
     },
     "metadata": {
      "needs_background": "light"
     },
     "output_type": "display_data"
    },
    {
     "data": {
      "text/plain": "<Figure size 432x288 with 1 Axes>",
      "image/png": "[encoded data removed]"
     },
     "metadata": {
      "needs_background": "light"
     },
     "output_type": "display_data"
    }
   ],
   "source": [
    "plt.scatter(x, linear(x, (0,10)))\n",
    "plt.scatter(x, linear(x, (20,10)))\n",
    "plt.figure() #on instancie un nouvel objet figure, pour ne pas mélanger les prochains graphes avec les précédents\n",
    "plt.scatter(x, linear(x, (20,100)))\n",
    "plt.show()"
   ]
  },
  {
   "cell_type": "markdown",
   "metadata": {},
   "source": [
    "## Synthèse\n",
    "\n",
    "À l'issue de ce cours, vous savez manipulez des array de numpy (et faites la distinction avec les listes, les sets et les tuples), faire des opérations algébriques, afficher des scatter plot et des histogrammes et générer des échantillons aléatoires de points."
   ]
  }
 ],
 "metadata": {
  "kernelspec": {
   "display_name": "Python 3",
   "language": "python",
   "name": "python3"
  },
  "language_info": {
   "codemirror_mode": {
    "name": "ipython",
    "version": 3
   },
   "file_extension": ".py",
   "mimetype": "text/x-python",
   "name": "python",
   "nbconvert_exporter": "python",
   "pygments_lexer": "ipython3",
   "version": "3.5.4"
  },
  "pycharm": {
   "stem_cell": {
    "cell_type": "raw",
    "source": [],
    "metadata": {
     "collapsed": false
    }
   }
  }
 },
 "nbformat": 4,
 "nbformat_minor": 1
}